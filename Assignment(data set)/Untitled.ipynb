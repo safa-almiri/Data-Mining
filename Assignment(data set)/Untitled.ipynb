{
 "cells": [
  {
   "cell_type": "code",
   "execution_count": 29,
   "metadata": {},
   "outputs": [],
   "source": [
    "import pandas as pd"
   ]
  },
  {
   "cell_type": "code",
   "execution_count": null,
   "metadata": {},
   "outputs": [],
   "source": []
  },
  {
   "cell_type": "code",
   "execution_count": 5,
   "metadata": {},
   "outputs": [
    {
     "data": {
      "text/html": [
       "<div>\n",
       "<style scoped>\n",
       "    .dataframe tbody tr th:only-of-type {\n",
       "        vertical-align: middle;\n",
       "    }\n",
       "\n",
       "    .dataframe tbody tr th {\n",
       "        vertical-align: top;\n",
       "    }\n",
       "\n",
       "    .dataframe thead th {\n",
       "        text-align: right;\n",
       "    }\n",
       "</style>\n",
       "<table border=\"1\" class=\"dataframe\">\n",
       "  <thead>\n",
       "    <tr style=\"text-align: right;\">\n",
       "      <th></th>\n",
       "      <th>work_year</th>\n",
       "      <th>job_title</th>\n",
       "      <th>job_category</th>\n",
       "      <th>salary_currency</th>\n",
       "      <th>salary</th>\n",
       "      <th>salary_in_usd</th>\n",
       "      <th>employee_residence</th>\n",
       "      <th>experience_level</th>\n",
       "      <th>employment_type</th>\n",
       "      <th>work_setting</th>\n",
       "      <th>company_location</th>\n",
       "      <th>company_size</th>\n",
       "    </tr>\n",
       "  </thead>\n",
       "  <tbody>\n",
       "    <tr>\n",
       "      <th>0</th>\n",
       "      <td>2023</td>\n",
       "      <td>Data DevOps Engineer</td>\n",
       "      <td>Data Engineering</td>\n",
       "      <td>EUR</td>\n",
       "      <td>88000.0</td>\n",
       "      <td>95012.0</td>\n",
       "      <td>Germany</td>\n",
       "      <td>Mid-level</td>\n",
       "      <td>Full-time</td>\n",
       "      <td>Hybrid</td>\n",
       "      <td>Germany</td>\n",
       "      <td>L</td>\n",
       "    </tr>\n",
       "    <tr>\n",
       "      <th>1</th>\n",
       "      <td>2023</td>\n",
       "      <td>Data Architect</td>\n",
       "      <td>Data Architecture and Modeling</td>\n",
       "      <td>USD</td>\n",
       "      <td>186000.0</td>\n",
       "      <td>186000.0</td>\n",
       "      <td>United States</td>\n",
       "      <td>Senior</td>\n",
       "      <td>Full-time</td>\n",
       "      <td>In-person</td>\n",
       "      <td>United States</td>\n",
       "      <td>M</td>\n",
       "    </tr>\n",
       "    <tr>\n",
       "      <th>2</th>\n",
       "      <td>2023</td>\n",
       "      <td>Data Architect</td>\n",
       "      <td>Data Architecture and Modeling</td>\n",
       "      <td>USD</td>\n",
       "      <td>81800.0</td>\n",
       "      <td>81800.0</td>\n",
       "      <td>United States</td>\n",
       "      <td>Senior</td>\n",
       "      <td>Full-time</td>\n",
       "      <td>In-person</td>\n",
       "      <td>United States</td>\n",
       "      <td>M</td>\n",
       "    </tr>\n",
       "    <tr>\n",
       "      <th>3</th>\n",
       "      <td>2023</td>\n",
       "      <td>Data Scientist</td>\n",
       "      <td>Data Science and Research</td>\n",
       "      <td>USD</td>\n",
       "      <td>212000.0</td>\n",
       "      <td>212000.0</td>\n",
       "      <td>United States</td>\n",
       "      <td>Senior</td>\n",
       "      <td>Full-time</td>\n",
       "      <td>In-person</td>\n",
       "      <td>United States</td>\n",
       "      <td>M</td>\n",
       "    </tr>\n",
       "    <tr>\n",
       "      <th>4</th>\n",
       "      <td>2023</td>\n",
       "      <td>Data Scientist</td>\n",
       "      <td>NaN</td>\n",
       "      <td>USD</td>\n",
       "      <td>93300.0</td>\n",
       "      <td>93300.0</td>\n",
       "      <td>United States</td>\n",
       "      <td>Senior</td>\n",
       "      <td>Full-time</td>\n",
       "      <td>In-person</td>\n",
       "      <td>United States</td>\n",
       "      <td>M</td>\n",
       "    </tr>\n",
       "    <tr>\n",
       "      <th>...</th>\n",
       "      <td>...</td>\n",
       "      <td>...</td>\n",
       "      <td>...</td>\n",
       "      <td>...</td>\n",
       "      <td>...</td>\n",
       "      <td>...</td>\n",
       "      <td>...</td>\n",
       "      <td>...</td>\n",
       "      <td>...</td>\n",
       "      <td>...</td>\n",
       "      <td>...</td>\n",
       "      <td>...</td>\n",
       "    </tr>\n",
       "    <tr>\n",
       "      <th>2207</th>\n",
       "      <td>2023</td>\n",
       "      <td>Data Analyst</td>\n",
       "      <td>Data Analysis</td>\n",
       "      <td>$</td>\n",
       "      <td>105000.0</td>\n",
       "      <td>105000.0</td>\n",
       "      <td>United States</td>\n",
       "      <td>Mid-level</td>\n",
       "      <td>Full-time</td>\n",
       "      <td>In-person</td>\n",
       "      <td>United States</td>\n",
       "      <td>M</td>\n",
       "    </tr>\n",
       "    <tr>\n",
       "      <th>2208</th>\n",
       "      <td>2023</td>\n",
       "      <td>Data Analyst</td>\n",
       "      <td>Data Analysis</td>\n",
       "      <td>USD</td>\n",
       "      <td>78000.0</td>\n",
       "      <td>78000.0</td>\n",
       "      <td>United States</td>\n",
       "      <td>Mid-level</td>\n",
       "      <td>Full-time</td>\n",
       "      <td>In-person</td>\n",
       "      <td>United States</td>\n",
       "      <td>M</td>\n",
       "    </tr>\n",
       "    <tr>\n",
       "      <th>2209</th>\n",
       "      <td>2023</td>\n",
       "      <td>Data Manager</td>\n",
       "      <td>Leadership and Management</td>\n",
       "      <td>USD</td>\n",
       "      <td>115500.0</td>\n",
       "      <td>115500.0</td>\n",
       "      <td>United States</td>\n",
       "      <td>Mid-level</td>\n",
       "      <td>Full-time</td>\n",
       "      <td>In-person</td>\n",
       "      <td>United States</td>\n",
       "      <td>M</td>\n",
       "    </tr>\n",
       "    <tr>\n",
       "      <th>2210</th>\n",
       "      <td>2023</td>\n",
       "      <td>Data Manager</td>\n",
       "      <td>Leadership and Management</td>\n",
       "      <td>USD</td>\n",
       "      <td>73500.0</td>\n",
       "      <td>73500.0</td>\n",
       "      <td>United States</td>\n",
       "      <td>Mid-level</td>\n",
       "      <td>Full-time</td>\n",
       "      <td>In-person</td>\n",
       "      <td>United States</td>\n",
       "      <td>M</td>\n",
       "    </tr>\n",
       "    <tr>\n",
       "      <th>2211</th>\n",
       "      <td>2023</td>\n",
       "      <td>Machine Learning Engineer</td>\n",
       "      <td>Machine Learning and AI</td>\n",
       "      <td>USD</td>\n",
       "      <td>370000.0</td>\n",
       "      <td>370000.0</td>\n",
       "      <td>United States</td>\n",
       "      <td>Senior</td>\n",
       "      <td>Full-time</td>\n",
       "      <td>In-person</td>\n",
       "      <td>United States</td>\n",
       "      <td>M</td>\n",
       "    </tr>\n",
       "  </tbody>\n",
       "</table>\n",
       "<p>2212 rows × 12 columns</p>\n",
       "</div>"
      ],
      "text/plain": [
       "      work_year                  job_title                    job_category  \\\n",
       "0          2023       Data DevOps Engineer                Data Engineering   \n",
       "1          2023             Data Architect  Data Architecture and Modeling   \n",
       "2          2023             Data Architect  Data Architecture and Modeling   \n",
       "3          2023             Data Scientist       Data Science and Research   \n",
       "4          2023             Data Scientist                             NaN   \n",
       "...         ...                        ...                             ...   \n",
       "2207       2023               Data Analyst                   Data Analysis   \n",
       "2208       2023               Data Analyst                   Data Analysis   \n",
       "2209       2023               Data Manager       Leadership and Management   \n",
       "2210       2023               Data Manager       Leadership and Management   \n",
       "2211       2023  Machine Learning Engineer         Machine Learning and AI   \n",
       "\n",
       "     salary_currency    salary  salary_in_usd employee_residence  \\\n",
       "0                EUR   88000.0        95012.0            Germany   \n",
       "1                USD  186000.0       186000.0      United States   \n",
       "2                USD   81800.0        81800.0      United States   \n",
       "3                USD  212000.0       212000.0      United States   \n",
       "4                USD   93300.0        93300.0      United States   \n",
       "...              ...       ...            ...                ...   \n",
       "2207               $  105000.0       105000.0      United States   \n",
       "2208             USD   78000.0        78000.0      United States   \n",
       "2209             USD  115500.0       115500.0      United States   \n",
       "2210             USD   73500.0        73500.0      United States   \n",
       "2211             USD  370000.0       370000.0      United States   \n",
       "\n",
       "     experience_level employment_type work_setting company_location  \\\n",
       "0           Mid-level       Full-time       Hybrid          Germany   \n",
       "1              Senior       Full-time    In-person    United States   \n",
       "2              Senior       Full-time    In-person    United States   \n",
       "3              Senior       Full-time    In-person    United States   \n",
       "4              Senior       Full-time    In-person    United States   \n",
       "...               ...             ...          ...              ...   \n",
       "2207        Mid-level       Full-time    In-person    United States   \n",
       "2208        Mid-level       Full-time    In-person    United States   \n",
       "2209        Mid-level       Full-time    In-person    United States   \n",
       "2210        Mid-level       Full-time    In-person    United States   \n",
       "2211           Senior       Full-time    In-person    United States   \n",
       "\n",
       "     company_size  \n",
       "0               L  \n",
       "1               M  \n",
       "2               M  \n",
       "3               M  \n",
       "4               M  \n",
       "...           ...  \n",
       "2207            M  \n",
       "2208            M  \n",
       "2209            M  \n",
       "2210            M  \n",
       "2211            M  \n",
       "\n",
       "[2212 rows x 12 columns]"
      ]
     },
     "execution_count": 5,
     "metadata": {},
     "output_type": "execute_result"
    }
   ],
   "source": [
    "dataset=pd.read_csv(\"dataset.csv\")\n",
    "dataset"
   ]
  },
  {
   "cell_type": "code",
   "execution_count": null,
   "metadata": {},
   "outputs": [],
   "source": []
  },
  {
   "cell_type": "code",
   "execution_count": 6,
   "metadata": {},
   "outputs": [
    {
     "name": "stdout",
     "output_type": "stream",
     "text": [
      "<class 'pandas.core.frame.DataFrame'>\n",
      "RangeIndex: 2212 entries, 0 to 2211\n",
      "Data columns (total 12 columns):\n",
      " #   Column              Non-Null Count  Dtype  \n",
      "---  ------              --------------  -----  \n",
      " 0   work_year           2212 non-null   int64  \n",
      " 1   job_title           2209 non-null   object \n",
      " 2   job_category        2205 non-null   object \n",
      " 3   salary_currency     2203 non-null   object \n",
      " 4   salary              2211 non-null   float64\n",
      " 5   salary_in_usd       2211 non-null   float64\n",
      " 6   employee_residence  2212 non-null   object \n",
      " 7   experience_level    2211 non-null   object \n",
      " 8   employment_type     2212 non-null   object \n",
      " 9   work_setting        2211 non-null   object \n",
      " 10  company_location    2212 non-null   object \n",
      " 11  company_size        2212 non-null   object \n",
      "dtypes: float64(2), int64(1), object(9)\n",
      "memory usage: 207.5+ KB\n"
     ]
    }
   ],
   "source": [
    "dataset.info()"
   ]
  },
  {
   "cell_type": "code",
   "execution_count": 9,
   "metadata": {},
   "outputs": [
    {
     "data": {
      "text/plain": [
       "work_year             0\n",
       "job_title             3\n",
       "job_category          7\n",
       "salary_currency       9\n",
       "salary                1\n",
       "salary_in_usd         1\n",
       "employee_residence    0\n",
       "experience_level      1\n",
       "employment_type       0\n",
       "work_setting          1\n",
       "company_location      0\n",
       "company_size          0\n",
       "dtype: int64"
      ]
     },
     "execution_count": 9,
     "metadata": {},
     "output_type": "execute_result"
    }
   ],
   "source": [
    "missing_values_count = dataset.isnull().sum()\n",
    "missing_values_count"
   ]
  },
  {
   "cell_type": "code",
   "execution_count": 10,
   "metadata": {},
   "outputs": [],
   "source": [
    "dataset['job_category'].fillna(dataset['job_category'].mode()[0], inplace=True)"
   ]
  },
  {
   "cell_type": "code",
   "execution_count": 11,
   "metadata": {},
   "outputs": [
    {
     "data": {
      "text/plain": [
       "work_year             0\n",
       "job_title             3\n",
       "job_category          0\n",
       "salary_currency       9\n",
       "salary                1\n",
       "salary_in_usd         1\n",
       "employee_residence    0\n",
       "experience_level      1\n",
       "employment_type       0\n",
       "work_setting          1\n",
       "company_location      0\n",
       "company_size          0\n",
       "dtype: int64"
      ]
     },
     "execution_count": 11,
     "metadata": {},
     "output_type": "execute_result"
    }
   ],
   "source": [
    "missing_values_count = dataset.isnull().sum()\n",
    "missing_values_count"
   ]
  },
  {
   "cell_type": "code",
   "execution_count": 15,
   "metadata": {},
   "outputs": [],
   "source": [
    "job_categories = dataset['job_category'].unique()\n",
    "for category in job_categories:\n",
    "    mode_value = dataset[dataset['job_category'] == category]['job_title'].mode()[0]\n",
    "    dataset.loc[(dataset['job_category'] == category) & (dataset['job_title'].isnull()), 'job_title'] = mode_value"
   ]
  },
  {
   "cell_type": "code",
   "execution_count": 16,
   "metadata": {},
   "outputs": [
    {
     "data": {
      "text/plain": [
       "work_year             0\n",
       "job_title             0\n",
       "job_category          0\n",
       "salary_currency       9\n",
       "salary                1\n",
       "salary_in_usd         1\n",
       "employee_residence    0\n",
       "experience_level      1\n",
       "employment_type       0\n",
       "work_setting          1\n",
       "company_location      0\n",
       "company_size          0\n",
       "dtype: int64"
      ]
     },
     "execution_count": 16,
     "metadata": {},
     "output_type": "execute_result"
    }
   ],
   "source": [
    "missing_values_count = dataset.isnull().sum()\n",
    "missing_values_count"
   ]
  },
  {
   "cell_type": "code",
   "execution_count": 17,
   "metadata": {},
   "outputs": [],
   "source": [
    "dataset['experience_level'].fillna(method='ffill', inplace=True)\n"
   ]
  },
  {
   "cell_type": "code",
   "execution_count": 18,
   "metadata": {},
   "outputs": [
    {
     "data": {
      "text/plain": [
       "work_year             0\n",
       "job_title             0\n",
       "job_category          0\n",
       "salary_currency       9\n",
       "salary                1\n",
       "salary_in_usd         1\n",
       "employee_residence    0\n",
       "experience_level      0\n",
       "employment_type       0\n",
       "work_setting          1\n",
       "company_location      0\n",
       "company_size          0\n",
       "dtype: int64"
      ]
     },
     "execution_count": 18,
     "metadata": {},
     "output_type": "execute_result"
    }
   ],
   "source": [
    "missing_values_count = dataset.isnull().sum()\n",
    "missing_values_count"
   ]
  },
  {
   "cell_type": "code",
   "execution_count": 19,
   "metadata": {},
   "outputs": [],
   "source": [
    "dataset['work_setting'].fillna(method='ffill', inplace=True)\n"
   ]
  },
  {
   "cell_type": "code",
   "execution_count": 25,
   "metadata": {},
   "outputs": [
    {
     "data": {
      "text/plain": [
       "work_year             0\n",
       "job_title             0\n",
       "job_category          0\n",
       "salary_currency       9\n",
       "salary                1\n",
       "salary_in_usd         1\n",
       "employee_residence    0\n",
       "experience_level      0\n",
       "employment_type       0\n",
       "work_setting          0\n",
       "company_location      0\n",
       "company_size          0\n",
       "dtype: int64"
      ]
     },
     "execution_count": 25,
     "metadata": {},
     "output_type": "execute_result"
    }
   ],
   "source": [
    "missing_values_count = dataset.isnull().sum()\n",
    "missing_values_count"
   ]
  },
  {
   "cell_type": "code",
   "execution_count": 23,
   "metadata": {},
   "outputs": [
    {
     "data": {
      "text/plain": [
       "array(['EUR', 'USD', '$', 'GBP', nan, 'CAD', 'AUD'], dtype=object)"
      ]
     },
     "execution_count": 23,
     "metadata": {},
     "output_type": "execute_result"
    }
   ],
   "source": [
    "unique_values = dataset['salary_currency'].unique()\n",
    "unique_values"
   ]
  },
  {
   "cell_type": "code",
   "execution_count": 30,
   "metadata": {},
   "outputs": [],
   "source": []
  },
  {
   "cell_type": "code",
   "execution_count": 36,
   "metadata": {},
   "outputs": [],
   "source": [
    "for i in range(len(dataset)):\n",
    "    if pd.isnull(dataset.loc[i, 'salary_currency']):\n",
    "        if dataset.loc[i, 'salary'] == dataset.loc[i, 'salary_in_usd']:\n",
    "            dataset.loc[i, 'salary_currency'] = 'USD'\n",
    "        else:\n",
    "            dataset.loc[i, 'salary_currency'] = dataset.loc[i-1, 'salary_currency']"
   ]
  },
  {
   "cell_type": "code",
   "execution_count": 38,
   "metadata": {},
   "outputs": [
    {
     "data": {
      "text/plain": [
       "work_year             0\n",
       "job_title             0\n",
       "job_category          0\n",
       "salary_currency       0\n",
       "salary                1\n",
       "salary_in_usd         1\n",
       "employee_residence    0\n",
       "experience_level      0\n",
       "employment_type       0\n",
       "work_setting          0\n",
       "company_location      0\n",
       "company_size          0\n",
       "dtype: int64"
      ]
     },
     "execution_count": 38,
     "metadata": {},
     "output_type": "execute_result"
    }
   ],
   "source": [
    "missing_values_count = dataset.isnull().sum()\n",
    "missing_values_count"
   ]
  },
  {
   "cell_type": "code",
   "execution_count": 70,
   "metadata": {},
   "outputs": [],
   "source": [
    "dataset.to_csv('dataset.csv', index=False)"
   ]
  },
  {
   "cell_type": "code",
   "execution_count": 65,
   "metadata": {},
   "outputs": [],
   "source": [
    "for i in range(len(dataset)):\n",
    "    if pd.isnull(dataset.loc[i, 'salary']):\n",
    "        if dataset.loc[i, 'salary_currency'] == 'USD':\n",
    "            dataset.loc[i, 'salary'] = dataset.loc[i, 'salary_in_usd']\n",
    "        else:\n",
    "            dataset['salary'].fillna(dataset['salary'].mean(), inplace=True)"
   ]
  },
  {
   "cell_type": "code",
   "execution_count": 67,
   "metadata": {},
   "outputs": [],
   "source": [
    "for i in range(len(dataset)):\n",
    "    if pd.isnull(dataset.loc[i, 'salary_in_usd']):\n",
    "        if dataset.loc[i, 'salary_currency'] == 'USD':\n",
    "            dataset.loc[i, 'salary_in_usd'] = dataset.loc[i, 'salary']\n",
    "        else:\n",
    "            dataset['salary_in_usd'].fillna(dataset['salary_in_usd'].mean(), inplace=True)"
   ]
  },
  {
   "cell_type": "code",
   "execution_count": null,
   "metadata": {},
   "outputs": [],
   "source": []
  },
  {
   "cell_type": "code",
   "execution_count": 44,
   "metadata": {},
   "outputs": [],
   "source": []
  },
  {
   "cell_type": "code",
   "execution_count": 69,
   "metadata": {},
   "outputs": [
    {
     "data": {
      "text/plain": [
       "work_year             0\n",
       "job_title             0\n",
       "job_category          0\n",
       "salary_currency       0\n",
       "salary                0\n",
       "salary_in_usd         0\n",
       "employee_residence    0\n",
       "experience_level      0\n",
       "employment_type       0\n",
       "work_setting          0\n",
       "company_location      0\n",
       "company_size          0\n",
       "dtype: int64"
      ]
     },
     "execution_count": 69,
     "metadata": {},
     "output_type": "execute_result"
    }
   ],
   "source": [
    "missing_values_count = dataset.isnull().sum()\n",
    "missing_values_count"
   ]
  },
  {
   "cell_type": "code",
   "execution_count": null,
   "metadata": {},
   "outputs": [],
   "source": []
  }
 ],
 "metadata": {
  "kernelspec": {
   "display_name": "Python 3",
   "language": "python",
   "name": "python3"
  },
  "language_info": {
   "codemirror_mode": {
    "name": "ipython",
    "version": 3
   },
   "file_extension": ".py",
   "mimetype": "text/x-python",
   "name": "python",
   "nbconvert_exporter": "python",
   "pygments_lexer": "ipython3",
   "version": "3.8.5"
  }
 },
 "nbformat": 4,
 "nbformat_minor": 4
}
